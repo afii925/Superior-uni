{
 "cells": [
  {
   "cell_type": "code",
   "execution_count": 1,
   "metadata": {},
   "outputs": [],
   "source": [
    "\n",
    "## Fizz Buzz \n",
    "def FizzBuzz(num):\n",
    "    num_lis = []\n",
    "    if num % 3 == 0 and num % 5 == 0:\n",
    "        print(\"Fizz Buzz\")\n",
    "        num_lis.append(num)\n",
    "    elif num % 3 == 0:\n",
    "        print(\"Fizz\")\n",
    "        num_lis.append(num)\n",
    "    elif num % 5 == 0 :\n",
    "        print(\"Buzz\")\n",
    "        num_lis.append(num)\n",
    "    else:\n",
    "        print(\"Game Stop\")\n",
    "        \n",
    "flag = True\n",
    "while flag:\n",
    "    num = int(input(\"Enter the number :\"))\n",
    "    FizzBuzz(num)\n",
    "    choice = input(\"DO you want to continue ? Y / N :\")\n",
    "    if choice.lower() != \"n\" and  choice.lower() != \"y\":\n",
    "        raise ValueError(\"Must put y or n...\")\n",
    "    elif choice == \"n\":\n",
    "        flag = False\n",
    "        print(\"Have a good day\")\n",
    "        break\n",
    "    else:\n",
    "        continue\n",
    "    \n",
    "\n",
    "\n",
    "\n",
    "        \n"
   ]
  }
 ],
 "metadata": {
  "kernelspec": {
   "display_name": "base",
   "language": "python",
   "name": "python3"
  },
  "language_info": {
   "codemirror_mode": {
    "name": "ipython",
    "version": 3
   },
   "file_extension": ".py",
   "mimetype": "text/x-python",
   "name": "python",
   "nbconvert_exporter": "python",
   "pygments_lexer": "ipython3",
   "version": "3.11.5"
  }
 },
 "nbformat": 4,
 "nbformat_minor": 2
}

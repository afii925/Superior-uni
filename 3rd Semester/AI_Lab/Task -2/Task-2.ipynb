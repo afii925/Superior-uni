{
 "cells": [
  {
   "cell_type": "code",
   "execution_count": null,
   "metadata": {},
   "outputs": [],
   "source": [
    "\n",
    "## Task 02\n",
    "\n",
    "movies = [\n",
    "    (\"Eternal Sunshine of the Spotless Mind\", 20000000),\n",
    "    (\"Memento\", 9000000),\n",
    "    (\"Requiem for a Dream\", 4500000),\n",
    "    (\"Pirates of the Caribbean: On Stranger Tides\", 379000000),\n",
    "    (\"Avengers: Age of Ultron\", 365000000),\n",
    "    (\"Avengers: Endgame\", 356000000),\n",
    "    (\"Incredibles 2\", 200000000)\n",
    "]\n",
    "\n",
    "def calculate_avg(movies):\n",
    "    Sum  = 0\n",
    "    average_budget = None\n",
    "    budget_ls = []\n",
    "    \n",
    "    for i in movies:\n",
    "        budget = i[-1]\n",
    "        budget_ls.append(budget)\n",
    "        Sum+=  budget\n",
    "        average_budget = Sum / len(budget_ls)   \n",
    "    print(\"Average budget:\", average_budget)   \n",
    "    return average_budget\n",
    "\n",
    "def higher_rate(average_budget):\n",
    "    name_ls = []\n",
    "    result = None\n",
    "    for i in movies:\n",
    "        price = i[1]\n",
    "        name = i[0]\n",
    "        result = price - average_budget\n",
    "        if result > 0:\n",
    "            name_ls.append(name)\n",
    "            print(f\"{name} budget is {result} higher then the average budget.\")\n",
    "    print(\"Total number of higher movies are :\",len(name_ls))\n",
    "        \n",
    "calculate_avg(movies)\n",
    "higher_rate(average_budget)"
   ]
  }
 ],
 "metadata": {
  "language_info": {
   "name": "python"
  }
 },
 "nbformat": 4,
 "nbformat_minor": 2
}

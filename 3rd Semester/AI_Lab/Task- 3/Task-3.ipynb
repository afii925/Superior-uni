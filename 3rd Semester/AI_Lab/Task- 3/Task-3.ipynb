{
 "cells": [
  {
   "cell_type": "code",
   "execution_count": null,
   "metadata": {},
   "outputs": [],
   "source": [
    "\n",
    "## Task--03\n",
    "class ModelBasedReflexAgent:\n",
    "    def __init__(self,desired_temp):\n",
    "        self.desired_temp = desired_temp\n",
    "        self.previous_action = None\n",
    "        \n",
    "    def percieve(self,current_temp):\n",
    "        return current_temp\n",
    "    \n",
    "    def act(self,current_temp):\n",
    "        if current_temp < self.desired_temp:\n",
    "            if self.previous_action != \"Heater turn on\":\n",
    "                action = \"Heater turn on\"\n",
    "                self.previous_action = action\n",
    "            else:\n",
    "                action = \"Heater is already on\"\n",
    "                \n",
    "        else:\n",
    "            if self.previous_action != \"Heater turn off\":\n",
    "                action = \"Heater turn off\"\n",
    "                self.previous_action = action\n",
    "            else:\n",
    "                action = \"Heater is already off\"\n",
    "        return action\n",
    "                \n",
    "                \n",
    "rooms = {\n",
    "    \"living room\": 18,\n",
    "    \"Bedroom\": 22,\n",
    "    \"Kitchen\": 20,\n",
    "    \"Bathroom\": 24\n",
    "}\n",
    "\n",
    "\n",
    "desired_temp = 22\n",
    "agent = ModelBasedReflexAgent(desired_temp)\n",
    "\n",
    "for room,temp in rooms.items():\n",
    "    current_temp = agent.percieve(temp)\n",
    "    action = agent.act(current_temp)\n",
    "    print(f\"{room}:Current Temperature = {current_temp} Action is :{action}\")\n",
    "    "
   ]
  }
 ],
 "metadata": {
  "language_info": {
   "name": "python"
  }
 },
 "nbformat": 4,
 "nbformat_minor": 2
}

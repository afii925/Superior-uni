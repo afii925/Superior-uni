{
 "cells": [
  {
   "cell_type": "code",
   "execution_count": null,
   "metadata": {},
   "outputs": [],
   "source": [
    "\n",
    "### Luhn Algorithms.....\n",
    "\n",
    "\n",
    "def luhn_algorithm(card_number):\n",
    "    card_digits = [int(digit) for digit in str(card_number)]\n",
    "    check_digit = card_digits.pop()\n",
    "    card_digits.reverse()\n",
    "    \n",
    "    for i in range(len(card_digits)):\n",
    "        if i % 2 == 0:\n",
    "            card_digits[i] *= 2\n",
    "            if card_digits[i] > 9:\n",
    "                card_digits[i] -= 9\n",
    "    \n",
    "    total_sum = sum(card_digits) + check_digit\n",
    "    if total_sum % 10 == 0:\n",
    "        return True \n",
    "    else:\n",
    "        return False\n",
    "\n",
    "card_number = \"5893804115457289\"\n",
    "if luhn_algorithm(card_number):\n",
    "    print(\"The card number is valid.\")\n",
    "else:\n",
    "    print(\"The card number is not valid.\")\n"
   ]
  },
  {
   "cell_type": "code",
   "execution_count": null,
   "metadata": {},
   "outputs": [],
   "source": [
    "### Remove Punctuations \n",
    "\n",
    "def remove_pun(input_str):\n",
    "    result = \"\"\n",
    "    for c in input_str:\n",
    "        if c.isalpha() or c.isalnum():\n",
    "            result += c\n",
    "    return result\n",
    "\n",
    "input_str = \"Hello, I am Afzaal Mustafa and i want to become data analyst!!925.\"\n",
    "result = remove_pun(input_str)\n",
    "print(result)\n",
    "    "
   ]
  },
  {
   "cell_type": "code",
   "execution_count": null,
   "metadata": {},
   "outputs": [],
   "source": [
    "# Sorting Elements"
   ]
  },
  {
   "cell_type": "code",
   "execution_count": null,
   "metadata": {},
   "outputs": [],
   "source": [
    "def bubble_sort(words):\n",
    "    n = len(words)\n",
    "    for i in range(n):\n",
    "        for j in range(0, n - i - 1):\n",
    "            if words[j] > words[j + 1]:\n",
    "                words[j], words[j + 1] = words[j + 1], words[j]\n",
    "    \n",
    "    return words\n",
    "\n",
    "words = [\"Afzaal\",\"Raza\",\"Ahmad\",\"Rizwan\",\"Subhan\"]\n",
    "sorting_words = bubble_sort(words)\n",
    "print(\"Sorting  words:\", sorting_words)\n"
   ]
  }
 ],
 "metadata": {
  "language_info": {
   "name": "python"
  }
 },
 "nbformat": 4,
 "nbformat_minor": 2
}
